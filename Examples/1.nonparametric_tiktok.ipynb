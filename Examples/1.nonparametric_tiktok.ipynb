{
  "cells": [
    {
      "cell_type": "code",
      "execution_count": 1,
      "metadata": {
        "colab": {
          "base_uri": "https://localhost:8080/",
          "height": 530
        },
        "id": "Fet14oXhs-c-",
        "outputId": "af634fb1-ec96-4453-8256-00804361dae5"
      },
      "outputs": [
        {
          "data": {
            "text/html": [
              "<div>\n",
              "<style scoped>\n",
              "    .dataframe tbody tr th:only-of-type {\n",
              "        vertical-align: middle;\n",
              "    }\n",
              "\n",
              "    .dataframe tbody tr th {\n",
              "        vertical-align: top;\n",
              "    }\n",
              "\n",
              "    .dataframe thead th {\n",
              "        text-align: right;\n",
              "    }\n",
              "</style>\n",
              "<table border=\"1\" class=\"dataframe\">\n",
              "  <thead>\n",
              "    <tr style=\"text-align: right;\">\n",
              "      <th></th>\n",
              "      <th>#</th>\n",
              "      <th>claim_status</th>\n",
              "      <th>video_id</th>\n",
              "      <th>video_duration_sec</th>\n",
              "      <th>video_transcription_text</th>\n",
              "      <th>verified_status</th>\n",
              "      <th>author_ban_status</th>\n",
              "      <th>video_view_count</th>\n",
              "      <th>video_like_count</th>\n",
              "      <th>video_share_count</th>\n",
              "      <th>video_download_count</th>\n",
              "      <th>video_comment_count</th>\n",
              "    </tr>\n",
              "  </thead>\n",
              "  <tbody>\n",
              "    <tr>\n",
              "      <th>0</th>\n",
              "      <td>1</td>\n",
              "      <td>claim</td>\n",
              "      <td>7017666017</td>\n",
              "      <td>59</td>\n",
              "      <td>someone shared with me that drone deliveries a...</td>\n",
              "      <td>not verified</td>\n",
              "      <td>under review</td>\n",
              "      <td>343296.0</td>\n",
              "      <td>19425.0</td>\n",
              "      <td>241.0</td>\n",
              "      <td>1.0</td>\n",
              "      <td>0.0</td>\n",
              "    </tr>\n",
              "    <tr>\n",
              "      <th>1</th>\n",
              "      <td>2</td>\n",
              "      <td>claim</td>\n",
              "      <td>4014381136</td>\n",
              "      <td>32</td>\n",
              "      <td>someone shared with me that there are more mic...</td>\n",
              "      <td>not verified</td>\n",
              "      <td>active</td>\n",
              "      <td>140877.0</td>\n",
              "      <td>77355.0</td>\n",
              "      <td>19034.0</td>\n",
              "      <td>1161.0</td>\n",
              "      <td>684.0</td>\n",
              "    </tr>\n",
              "    <tr>\n",
              "      <th>2</th>\n",
              "      <td>3</td>\n",
              "      <td>claim</td>\n",
              "      <td>9859838091</td>\n",
              "      <td>31</td>\n",
              "      <td>someone shared with me that american industria...</td>\n",
              "      <td>not verified</td>\n",
              "      <td>active</td>\n",
              "      <td>902185.0</td>\n",
              "      <td>97690.0</td>\n",
              "      <td>2858.0</td>\n",
              "      <td>833.0</td>\n",
              "      <td>329.0</td>\n",
              "    </tr>\n",
              "    <tr>\n",
              "      <th>3</th>\n",
              "      <td>4</td>\n",
              "      <td>claim</td>\n",
              "      <td>1866847991</td>\n",
              "      <td>25</td>\n",
              "      <td>someone shared with me that the metro of st. p...</td>\n",
              "      <td>not verified</td>\n",
              "      <td>active</td>\n",
              "      <td>437506.0</td>\n",
              "      <td>239954.0</td>\n",
              "      <td>34812.0</td>\n",
              "      <td>1234.0</td>\n",
              "      <td>584.0</td>\n",
              "    </tr>\n",
              "    <tr>\n",
              "      <th>4</th>\n",
              "      <td>5</td>\n",
              "      <td>claim</td>\n",
              "      <td>7105231098</td>\n",
              "      <td>19</td>\n",
              "      <td>someone shared with me that the number of busi...</td>\n",
              "      <td>not verified</td>\n",
              "      <td>active</td>\n",
              "      <td>56167.0</td>\n",
              "      <td>34987.0</td>\n",
              "      <td>4110.0</td>\n",
              "      <td>547.0</td>\n",
              "      <td>152.0</td>\n",
              "    </tr>\n",
              "    <tr>\n",
              "      <th>...</th>\n",
              "      <td>...</td>\n",
              "      <td>...</td>\n",
              "      <td>...</td>\n",
              "      <td>...</td>\n",
              "      <td>...</td>\n",
              "      <td>...</td>\n",
              "      <td>...</td>\n",
              "      <td>...</td>\n",
              "      <td>...</td>\n",
              "      <td>...</td>\n",
              "      <td>...</td>\n",
              "      <td>...</td>\n",
              "    </tr>\n",
              "    <tr>\n",
              "      <th>19377</th>\n",
              "      <td>19378</td>\n",
              "      <td>NaN</td>\n",
              "      <td>7578226840</td>\n",
              "      <td>21</td>\n",
              "      <td>NaN</td>\n",
              "      <td>not verified</td>\n",
              "      <td>active</td>\n",
              "      <td>NaN</td>\n",
              "      <td>NaN</td>\n",
              "      <td>NaN</td>\n",
              "      <td>NaN</td>\n",
              "      <td>NaN</td>\n",
              "    </tr>\n",
              "    <tr>\n",
              "      <th>19378</th>\n",
              "      <td>19379</td>\n",
              "      <td>NaN</td>\n",
              "      <td>6079236179</td>\n",
              "      <td>53</td>\n",
              "      <td>NaN</td>\n",
              "      <td>not verified</td>\n",
              "      <td>active</td>\n",
              "      <td>NaN</td>\n",
              "      <td>NaN</td>\n",
              "      <td>NaN</td>\n",
              "      <td>NaN</td>\n",
              "      <td>NaN</td>\n",
              "    </tr>\n",
              "    <tr>\n",
              "      <th>19379</th>\n",
              "      <td>19380</td>\n",
              "      <td>NaN</td>\n",
              "      <td>2565539685</td>\n",
              "      <td>10</td>\n",
              "      <td>NaN</td>\n",
              "      <td>verified</td>\n",
              "      <td>under review</td>\n",
              "      <td>NaN</td>\n",
              "      <td>NaN</td>\n",
              "      <td>NaN</td>\n",
              "      <td>NaN</td>\n",
              "      <td>NaN</td>\n",
              "    </tr>\n",
              "    <tr>\n",
              "      <th>19380</th>\n",
              "      <td>19381</td>\n",
              "      <td>NaN</td>\n",
              "      <td>2969178540</td>\n",
              "      <td>24</td>\n",
              "      <td>NaN</td>\n",
              "      <td>not verified</td>\n",
              "      <td>active</td>\n",
              "      <td>NaN</td>\n",
              "      <td>NaN</td>\n",
              "      <td>NaN</td>\n",
              "      <td>NaN</td>\n",
              "      <td>NaN</td>\n",
              "    </tr>\n",
              "    <tr>\n",
              "      <th>19381</th>\n",
              "      <td>19382</td>\n",
              "      <td>NaN</td>\n",
              "      <td>8132759688</td>\n",
              "      <td>13</td>\n",
              "      <td>NaN</td>\n",
              "      <td>not verified</td>\n",
              "      <td>active</td>\n",
              "      <td>NaN</td>\n",
              "      <td>NaN</td>\n",
              "      <td>NaN</td>\n",
              "      <td>NaN</td>\n",
              "      <td>NaN</td>\n",
              "    </tr>\n",
              "  </tbody>\n",
              "</table>\n",
              "<p>19382 rows × 12 columns</p>\n",
              "</div>"
            ],
            "text/plain": [
              "           # claim_status    video_id  video_duration_sec  \\\n",
              "0          1        claim  7017666017                  59   \n",
              "1          2        claim  4014381136                  32   \n",
              "2          3        claim  9859838091                  31   \n",
              "3          4        claim  1866847991                  25   \n",
              "4          5        claim  7105231098                  19   \n",
              "...      ...          ...         ...                 ...   \n",
              "19377  19378          NaN  7578226840                  21   \n",
              "19378  19379          NaN  6079236179                  53   \n",
              "19379  19380          NaN  2565539685                  10   \n",
              "19380  19381          NaN  2969178540                  24   \n",
              "19381  19382          NaN  8132759688                  13   \n",
              "\n",
              "                                video_transcription_text verified_status  \\\n",
              "0      someone shared with me that drone deliveries a...    not verified   \n",
              "1      someone shared with me that there are more mic...    not verified   \n",
              "2      someone shared with me that american industria...    not verified   \n",
              "3      someone shared with me that the metro of st. p...    not verified   \n",
              "4      someone shared with me that the number of busi...    not verified   \n",
              "...                                                  ...             ...   \n",
              "19377                                                NaN    not verified   \n",
              "19378                                                NaN    not verified   \n",
              "19379                                                NaN        verified   \n",
              "19380                                                NaN    not verified   \n",
              "19381                                                NaN    not verified   \n",
              "\n",
              "      author_ban_status  video_view_count  video_like_count  \\\n",
              "0          under review          343296.0           19425.0   \n",
              "1                active          140877.0           77355.0   \n",
              "2                active          902185.0           97690.0   \n",
              "3                active          437506.0          239954.0   \n",
              "4                active           56167.0           34987.0   \n",
              "...                 ...               ...               ...   \n",
              "19377            active               NaN               NaN   \n",
              "19378            active               NaN               NaN   \n",
              "19379      under review               NaN               NaN   \n",
              "19380            active               NaN               NaN   \n",
              "19381            active               NaN               NaN   \n",
              "\n",
              "       video_share_count  video_download_count  video_comment_count  \n",
              "0                  241.0                   1.0                  0.0  \n",
              "1                19034.0                1161.0                684.0  \n",
              "2                 2858.0                 833.0                329.0  \n",
              "3                34812.0                1234.0                584.0  \n",
              "4                 4110.0                 547.0                152.0  \n",
              "...                  ...                   ...                  ...  \n",
              "19377                NaN                   NaN                  NaN  \n",
              "19378                NaN                   NaN                  NaN  \n",
              "19379                NaN                   NaN                  NaN  \n",
              "19380                NaN                   NaN                  NaN  \n",
              "19381                NaN                   NaN                  NaN  \n",
              "\n",
              "[19382 rows x 12 columns]"
            ]
          },
          "execution_count": 1,
          "metadata": {},
          "output_type": "execute_result"
        }
      ],
      "source": [
        "import pandas as pd\n",
        "\n",
        "df = pd.read_csv('./data/tiktok_dataset.csv')\n",
        "df"
      ]
    },
    {
      "cell_type": "code",
      "execution_count": 2,
      "metadata": {
        "id": "N91aQnpVtu4l"
      },
      "outputs": [],
      "source": [
        "from sklearn.feature_extraction.text import TfidfVectorizer\n",
        "\n",
        "text_column = 'video_transcription_text'\n",
        "numeric_columns = [\n",
        "    'video_view_count',\n",
        "    'video_like_count',\n",
        "    'video_share_count',\n",
        "    'video_download_count',\n",
        "    'video_comment_count'\n",
        "]"
      ]
    },
    {
      "cell_type": "code",
      "execution_count": 3,
      "metadata": {
        "id": "LquMy8i0vJ7r"
      },
      "outputs": [],
      "source": [
        "df[text_column] = df[text_column].fillna('')\n",
        "\n",
        "tfidf_vectorizer = TfidfVectorizer(max_features=1000)\n",
        "tfidf_matrix = tfidf_vectorizer.fit_transform(df[text_column])\n",
        "tfidf_df = pd.DataFrame(tfidf_matrix.toarray(), columns=tfidf_vectorizer.get_feature_names_out())\n",
        "result_df = pd.concat([tfidf_df, df[numeric_columns].reset_index(drop=True)],axis=1)"
      ]
    },
    {
      "cell_type": "code",
      "execution_count": 4,
      "metadata": {
        "colab": {
          "base_uri": "https://localhost:8080/",
          "height": 443
        },
        "id": "SBAXtHk9wXBt",
        "outputId": "271d0039-722a-48f3-f1fd-9ef9f90601fa"
      },
      "outputs": [
        {
          "data": {
            "text/html": [
              "<div>\n",
              "<style scoped>\n",
              "    .dataframe tbody tr th:only-of-type {\n",
              "        vertical-align: middle;\n",
              "    }\n",
              "\n",
              "    .dataframe tbody tr th {\n",
              "        vertical-align: top;\n",
              "    }\n",
              "\n",
              "    .dataframe thead th {\n",
              "        text-align: right;\n",
              "    }\n",
              "</style>\n",
              "<table border=\"1\" class=\"dataframe\">\n",
              "  <thead>\n",
              "    <tr style=\"text-align: right;\">\n",
              "      <th></th>\n",
              "      <th>000</th>\n",
              "      <th>100</th>\n",
              "      <th>11</th>\n",
              "      <th>12</th>\n",
              "      <th>13</th>\n",
              "      <th>14</th>\n",
              "      <th>15</th>\n",
              "      <th>150</th>\n",
              "      <th>17</th>\n",
              "      <th>170</th>\n",
              "      <th>...</th>\n",
              "      <th>yellowstone</th>\n",
              "      <th>you</th>\n",
              "      <th>your</th>\n",
              "      <th>zealanders</th>\n",
              "      <th>zones</th>\n",
              "      <th>video_view_count</th>\n",
              "      <th>video_like_count</th>\n",
              "      <th>video_share_count</th>\n",
              "      <th>video_download_count</th>\n",
              "      <th>video_comment_count</th>\n",
              "    </tr>\n",
              "  </thead>\n",
              "  <tbody>\n",
              "    <tr>\n",
              "      <th>0</th>\n",
              "      <td>0.0</td>\n",
              "      <td>0.0</td>\n",
              "      <td>0.0</td>\n",
              "      <td>0.0</td>\n",
              "      <td>0.0</td>\n",
              "      <td>0.0</td>\n",
              "      <td>0.0</td>\n",
              "      <td>0.0</td>\n",
              "      <td>0.0</td>\n",
              "      <td>0.0</td>\n",
              "      <td>...</td>\n",
              "      <td>0.0</td>\n",
              "      <td>0.0</td>\n",
              "      <td>0.0</td>\n",
              "      <td>0.0</td>\n",
              "      <td>0.0</td>\n",
              "      <td>343296.0</td>\n",
              "      <td>19425.0</td>\n",
              "      <td>241.0</td>\n",
              "      <td>1.0</td>\n",
              "      <td>0.0</td>\n",
              "    </tr>\n",
              "    <tr>\n",
              "      <th>1</th>\n",
              "      <td>0.0</td>\n",
              "      <td>0.0</td>\n",
              "      <td>0.0</td>\n",
              "      <td>0.0</td>\n",
              "      <td>0.0</td>\n",
              "      <td>0.0</td>\n",
              "      <td>0.0</td>\n",
              "      <td>0.0</td>\n",
              "      <td>0.0</td>\n",
              "      <td>0.0</td>\n",
              "      <td>...</td>\n",
              "      <td>0.0</td>\n",
              "      <td>0.0</td>\n",
              "      <td>0.0</td>\n",
              "      <td>0.0</td>\n",
              "      <td>0.0</td>\n",
              "      <td>140877.0</td>\n",
              "      <td>77355.0</td>\n",
              "      <td>19034.0</td>\n",
              "      <td>1161.0</td>\n",
              "      <td>684.0</td>\n",
              "    </tr>\n",
              "    <tr>\n",
              "      <th>2</th>\n",
              "      <td>0.0</td>\n",
              "      <td>0.0</td>\n",
              "      <td>0.0</td>\n",
              "      <td>0.0</td>\n",
              "      <td>0.0</td>\n",
              "      <td>0.0</td>\n",
              "      <td>0.0</td>\n",
              "      <td>0.0</td>\n",
              "      <td>0.0</td>\n",
              "      <td>0.0</td>\n",
              "      <td>...</td>\n",
              "      <td>0.0</td>\n",
              "      <td>0.0</td>\n",
              "      <td>0.0</td>\n",
              "      <td>0.0</td>\n",
              "      <td>0.0</td>\n",
              "      <td>902185.0</td>\n",
              "      <td>97690.0</td>\n",
              "      <td>2858.0</td>\n",
              "      <td>833.0</td>\n",
              "      <td>329.0</td>\n",
              "    </tr>\n",
              "    <tr>\n",
              "      <th>3</th>\n",
              "      <td>0.0</td>\n",
              "      <td>0.0</td>\n",
              "      <td>0.0</td>\n",
              "      <td>0.0</td>\n",
              "      <td>0.0</td>\n",
              "      <td>0.0</td>\n",
              "      <td>0.0</td>\n",
              "      <td>0.0</td>\n",
              "      <td>0.0</td>\n",
              "      <td>0.0</td>\n",
              "      <td>...</td>\n",
              "      <td>0.0</td>\n",
              "      <td>0.0</td>\n",
              "      <td>0.0</td>\n",
              "      <td>0.0</td>\n",
              "      <td>0.0</td>\n",
              "      <td>437506.0</td>\n",
              "      <td>239954.0</td>\n",
              "      <td>34812.0</td>\n",
              "      <td>1234.0</td>\n",
              "      <td>584.0</td>\n",
              "    </tr>\n",
              "    <tr>\n",
              "      <th>4</th>\n",
              "      <td>0.0</td>\n",
              "      <td>0.0</td>\n",
              "      <td>0.0</td>\n",
              "      <td>0.0</td>\n",
              "      <td>0.0</td>\n",
              "      <td>0.0</td>\n",
              "      <td>0.0</td>\n",
              "      <td>0.0</td>\n",
              "      <td>0.0</td>\n",
              "      <td>0.0</td>\n",
              "      <td>...</td>\n",
              "      <td>0.0</td>\n",
              "      <td>0.0</td>\n",
              "      <td>0.0</td>\n",
              "      <td>0.0</td>\n",
              "      <td>0.0</td>\n",
              "      <td>56167.0</td>\n",
              "      <td>34987.0</td>\n",
              "      <td>4110.0</td>\n",
              "      <td>547.0</td>\n",
              "      <td>152.0</td>\n",
              "    </tr>\n",
              "    <tr>\n",
              "      <th>...</th>\n",
              "      <td>...</td>\n",
              "      <td>...</td>\n",
              "      <td>...</td>\n",
              "      <td>...</td>\n",
              "      <td>...</td>\n",
              "      <td>...</td>\n",
              "      <td>...</td>\n",
              "      <td>...</td>\n",
              "      <td>...</td>\n",
              "      <td>...</td>\n",
              "      <td>...</td>\n",
              "      <td>...</td>\n",
              "      <td>...</td>\n",
              "      <td>...</td>\n",
              "      <td>...</td>\n",
              "      <td>...</td>\n",
              "      <td>...</td>\n",
              "      <td>...</td>\n",
              "      <td>...</td>\n",
              "      <td>...</td>\n",
              "      <td>...</td>\n",
              "    </tr>\n",
              "    <tr>\n",
              "      <th>19377</th>\n",
              "      <td>0.0</td>\n",
              "      <td>0.0</td>\n",
              "      <td>0.0</td>\n",
              "      <td>0.0</td>\n",
              "      <td>0.0</td>\n",
              "      <td>0.0</td>\n",
              "      <td>0.0</td>\n",
              "      <td>0.0</td>\n",
              "      <td>0.0</td>\n",
              "      <td>0.0</td>\n",
              "      <td>...</td>\n",
              "      <td>0.0</td>\n",
              "      <td>0.0</td>\n",
              "      <td>0.0</td>\n",
              "      <td>0.0</td>\n",
              "      <td>0.0</td>\n",
              "      <td>NaN</td>\n",
              "      <td>NaN</td>\n",
              "      <td>NaN</td>\n",
              "      <td>NaN</td>\n",
              "      <td>NaN</td>\n",
              "    </tr>\n",
              "    <tr>\n",
              "      <th>19378</th>\n",
              "      <td>0.0</td>\n",
              "      <td>0.0</td>\n",
              "      <td>0.0</td>\n",
              "      <td>0.0</td>\n",
              "      <td>0.0</td>\n",
              "      <td>0.0</td>\n",
              "      <td>0.0</td>\n",
              "      <td>0.0</td>\n",
              "      <td>0.0</td>\n",
              "      <td>0.0</td>\n",
              "      <td>...</td>\n",
              "      <td>0.0</td>\n",
              "      <td>0.0</td>\n",
              "      <td>0.0</td>\n",
              "      <td>0.0</td>\n",
              "      <td>0.0</td>\n",
              "      <td>NaN</td>\n",
              "      <td>NaN</td>\n",
              "      <td>NaN</td>\n",
              "      <td>NaN</td>\n",
              "      <td>NaN</td>\n",
              "    </tr>\n",
              "    <tr>\n",
              "      <th>19379</th>\n",
              "      <td>0.0</td>\n",
              "      <td>0.0</td>\n",
              "      <td>0.0</td>\n",
              "      <td>0.0</td>\n",
              "      <td>0.0</td>\n",
              "      <td>0.0</td>\n",
              "      <td>0.0</td>\n",
              "      <td>0.0</td>\n",
              "      <td>0.0</td>\n",
              "      <td>0.0</td>\n",
              "      <td>...</td>\n",
              "      <td>0.0</td>\n",
              "      <td>0.0</td>\n",
              "      <td>0.0</td>\n",
              "      <td>0.0</td>\n",
              "      <td>0.0</td>\n",
              "      <td>NaN</td>\n",
              "      <td>NaN</td>\n",
              "      <td>NaN</td>\n",
              "      <td>NaN</td>\n",
              "      <td>NaN</td>\n",
              "    </tr>\n",
              "    <tr>\n",
              "      <th>19380</th>\n",
              "      <td>0.0</td>\n",
              "      <td>0.0</td>\n",
              "      <td>0.0</td>\n",
              "      <td>0.0</td>\n",
              "      <td>0.0</td>\n",
              "      <td>0.0</td>\n",
              "      <td>0.0</td>\n",
              "      <td>0.0</td>\n",
              "      <td>0.0</td>\n",
              "      <td>0.0</td>\n",
              "      <td>...</td>\n",
              "      <td>0.0</td>\n",
              "      <td>0.0</td>\n",
              "      <td>0.0</td>\n",
              "      <td>0.0</td>\n",
              "      <td>0.0</td>\n",
              "      <td>NaN</td>\n",
              "      <td>NaN</td>\n",
              "      <td>NaN</td>\n",
              "      <td>NaN</td>\n",
              "      <td>NaN</td>\n",
              "    </tr>\n",
              "    <tr>\n",
              "      <th>19381</th>\n",
              "      <td>0.0</td>\n",
              "      <td>0.0</td>\n",
              "      <td>0.0</td>\n",
              "      <td>0.0</td>\n",
              "      <td>0.0</td>\n",
              "      <td>0.0</td>\n",
              "      <td>0.0</td>\n",
              "      <td>0.0</td>\n",
              "      <td>0.0</td>\n",
              "      <td>0.0</td>\n",
              "      <td>...</td>\n",
              "      <td>0.0</td>\n",
              "      <td>0.0</td>\n",
              "      <td>0.0</td>\n",
              "      <td>0.0</td>\n",
              "      <td>0.0</td>\n",
              "      <td>NaN</td>\n",
              "      <td>NaN</td>\n",
              "      <td>NaN</td>\n",
              "      <td>NaN</td>\n",
              "      <td>NaN</td>\n",
              "    </tr>\n",
              "  </tbody>\n",
              "</table>\n",
              "<p>19382 rows × 1005 columns</p>\n",
              "</div>"
            ],
            "text/plain": [
              "       000  100   11   12   13   14   15  150   17  170  ...  yellowstone  \\\n",
              "0      0.0  0.0  0.0  0.0  0.0  0.0  0.0  0.0  0.0  0.0  ...          0.0   \n",
              "1      0.0  0.0  0.0  0.0  0.0  0.0  0.0  0.0  0.0  0.0  ...          0.0   \n",
              "2      0.0  0.0  0.0  0.0  0.0  0.0  0.0  0.0  0.0  0.0  ...          0.0   \n",
              "3      0.0  0.0  0.0  0.0  0.0  0.0  0.0  0.0  0.0  0.0  ...          0.0   \n",
              "4      0.0  0.0  0.0  0.0  0.0  0.0  0.0  0.0  0.0  0.0  ...          0.0   \n",
              "...    ...  ...  ...  ...  ...  ...  ...  ...  ...  ...  ...          ...   \n",
              "19377  0.0  0.0  0.0  0.0  0.0  0.0  0.0  0.0  0.0  0.0  ...          0.0   \n",
              "19378  0.0  0.0  0.0  0.0  0.0  0.0  0.0  0.0  0.0  0.0  ...          0.0   \n",
              "19379  0.0  0.0  0.0  0.0  0.0  0.0  0.0  0.0  0.0  0.0  ...          0.0   \n",
              "19380  0.0  0.0  0.0  0.0  0.0  0.0  0.0  0.0  0.0  0.0  ...          0.0   \n",
              "19381  0.0  0.0  0.0  0.0  0.0  0.0  0.0  0.0  0.0  0.0  ...          0.0   \n",
              "\n",
              "       you  your  zealanders  zones  video_view_count  video_like_count  \\\n",
              "0      0.0   0.0         0.0    0.0          343296.0           19425.0   \n",
              "1      0.0   0.0         0.0    0.0          140877.0           77355.0   \n",
              "2      0.0   0.0         0.0    0.0          902185.0           97690.0   \n",
              "3      0.0   0.0         0.0    0.0          437506.0          239954.0   \n",
              "4      0.0   0.0         0.0    0.0           56167.0           34987.0   \n",
              "...    ...   ...         ...    ...               ...               ...   \n",
              "19377  0.0   0.0         0.0    0.0               NaN               NaN   \n",
              "19378  0.0   0.0         0.0    0.0               NaN               NaN   \n",
              "19379  0.0   0.0         0.0    0.0               NaN               NaN   \n",
              "19380  0.0   0.0         0.0    0.0               NaN               NaN   \n",
              "19381  0.0   0.0         0.0    0.0               NaN               NaN   \n",
              "\n",
              "       video_share_count  video_download_count  video_comment_count  \n",
              "0                  241.0                   1.0                  0.0  \n",
              "1                19034.0                1161.0                684.0  \n",
              "2                 2858.0                 833.0                329.0  \n",
              "3                34812.0                1234.0                584.0  \n",
              "4                 4110.0                 547.0                152.0  \n",
              "...                  ...                   ...                  ...  \n",
              "19377                NaN                   NaN                  NaN  \n",
              "19378                NaN                   NaN                  NaN  \n",
              "19379                NaN                   NaN                  NaN  \n",
              "19380                NaN                   NaN                  NaN  \n",
              "19381                NaN                   NaN                  NaN  \n",
              "\n",
              "[19382 rows x 1005 columns]"
            ]
          },
          "execution_count": 4,
          "metadata": {},
          "output_type": "execute_result"
        }
      ],
      "source": [
        "result_df"
      ]
    },
    {
      "cell_type": "code",
      "execution_count": 5,
      "metadata": {
        "id": "F7_w9vtC1P5Z"
      },
      "outputs": [],
      "source": [
        "result_df.dropna(inplace=True)"
      ]
    },
    {
      "cell_type": "code",
      "execution_count": 6,
      "metadata": {
        "id": "vEAkwGj8wkje"
      },
      "outputs": [],
      "source": [
        "from sklearn.model_selection import train_test_split\n",
        "\n",
        "X = result_df.iloc[:,0:1000]\n",
        "y = result_df.iloc[:,1001]\n",
        "\n",
        "X_temp, X_test, y_temp, y_test = train_test_split(X, y, test_size=0.15, random_state=42)\n",
        "X_train, X_val, y_train, y_val = train_test_split(X_temp, y_temp, test_size=0.25, random_state = 42)"
      ]
    },
    {
      "cell_type": "code",
      "execution_count": 7,
      "metadata": {
        "colab": {
          "base_uri": "https://localhost:8080/"
        },
        "id": "rshSQxGZy_6s",
        "outputId": "3db9bc34-91b6-48b7-eee0-66e2708dcb99"
      },
      "outputs": [
        {
          "name": "stdout",
          "output_type": "stream",
          "text": [
            "(12165, 1000) (4056, 1000) (2863, 1000)\n"
          ]
        }
      ],
      "source": [
        "print(X_train.shape, X_val.shape, X_test.shape)"
      ]
    },
    {
      "cell_type": "code",
      "execution_count": 8,
      "metadata": {
        "id": "0DZDBat9zAN5"
      },
      "outputs": [],
      "source": [
        "import numpy as np\n",
        "from sklearn.neighbors import KNeighborsRegressor\n",
        "from sklearn.tree import DecisionTreeRegressor\n",
        "from sklearn.ensemble import RandomForestRegressor, AdaBoostRegressor\n",
        "from sklearn.metrics import mean_squared_error, r2_score\n",
        "from sklearn.svm import SVR\n",
        "\n",
        "def evaluate_model(model, X_val, y_val):\n",
        "  y_pred = model.predict(X_val)\n",
        "  rmse = np.sqrt(mean_squared_error(y_val, y_pred))\n",
        "  r2 = r2_score(y_val, y_pred)\n",
        "  print(f\"{model.__class__.__name__} RMSE: {rmse}\")\n",
        "  print(f\"{model.__class__.__name__} R2 Score: {r2}\")"
      ]
    },
    {
      "cell_type": "code",
      "execution_count": 9,
      "metadata": {
        "colab": {
          "base_uri": "https://localhost:8080/"
        },
        "id": "KfklE17U1DlP",
        "outputId": "464fb6a4-3a1b-455f-ad3e-7c2149a4f65c"
      },
      "outputs": [
        {
          "name": "stdout",
          "output_type": "stream",
          "text": [
            "KNeighborsRegressor RMSE: 117750.52225136063\n",
            "KNeighborsRegressor R2 Score: 0.24151873211975872\n"
          ]
        }
      ],
      "source": [
        "knn = KNeighborsRegressor()\n",
        "knn.fit(X_train, y_train)\n",
        "evaluate_model(knn, X_val, y_val)"
      ]
    },
    {
      "cell_type": "code",
      "execution_count": 10,
      "metadata": {
        "colab": {
          "base_uri": "https://localhost:8080/"
        },
        "id": "DJx2JMAA4gVn",
        "outputId": "ec007c69-a9e5-4ac5-8d2a-618a6a36410e"
      },
      "outputs": [
        {
          "data": {
            "text/plain": [
              "135253.4980886974"
            ]
          },
          "execution_count": 10,
          "metadata": {},
          "output_type": "execute_result"
        }
      ],
      "source": [
        "np.sqrt(np.mean((y_val - np.mean(y_train))**2))\n"
      ]
    },
    {
      "cell_type": "code",
      "execution_count": 11,
      "metadata": {
        "colab": {
          "base_uri": "https://localhost:8080/"
        },
        "id": "BLwJ74HD1Mmu",
        "outputId": "90b63e64-a714-4c5c-a7b9-a98b7c59c37c"
      },
      "outputs": [
        {
          "name": "stdout",
          "output_type": "stream",
          "text": [
            "KNeighborsRegressor RMSE: 116091.3378311452\n",
            "KNeighborsRegressor R2 Score: 0.2627431649428055\n"
          ]
        }
      ],
      "source": [
        "knn = KNeighborsRegressor(n_neighbors = 8)\n",
        "knn.fit(X_train, y_train)\n",
        "evaluate_model(knn, X_val, y_val)"
      ]
    },
    {
      "cell_type": "code",
      "execution_count": 12,
      "metadata": {
        "colab": {
          "base_uri": "https://localhost:8080/"
        },
        "id": "0uyKQBwK2PE4",
        "outputId": "53f990b1-b1b9-44e5-a95c-13828350d086"
      },
      "outputs": [
        {
          "name": "stdout",
          "output_type": "stream",
          "text": [
            "Neighbors: 7\n",
            "KNeighborsRegressor RMSE: 116613.02305348226\n",
            "KNeighborsRegressor R2 Score: 0.2561021840254051\n",
            "Neighbors: 8\n",
            "KNeighborsRegressor RMSE: 116091.3378311452\n",
            "KNeighborsRegressor R2 Score: 0.2627431649428055\n",
            "Neighbors: 9\n",
            "KNeighborsRegressor RMSE: 116365.76731608092\n",
            "KNeighborsRegressor R2 Score: 0.2592534273557474\n",
            "Neighbors: 10\n",
            "KNeighborsRegressor RMSE: 116786.93905944341\n",
            "KNeighborsRegressor R2 Score: 0.25388163937730046\n",
            "Neighbors: 11\n",
            "KNeighborsRegressor RMSE: 117818.64424197297\n",
            "KNeighborsRegressor R2 Score: 0.24064087274587842\n",
            "Neighbors: 12\n",
            "KNeighborsRegressor RMSE: 118251.08084651972\n",
            "KNeighborsRegressor R2 Score: 0.23505640330878463\n"
          ]
        }
      ],
      "source": [
        "neigh = [7,8,9,10,11,12]\n",
        "\n",
        "for n in neigh:\n",
        "  print(f\"Neighbors: {n}\")\n",
        "  knn = KNeighborsRegressor(n_neighbors = n)\n",
        "  knn.fit(X_train, y_train)\n",
        "  evaluate_model(knn, X_val, y_val)"
      ]
    },
    {
      "cell_type": "code",
      "execution_count": 13,
      "metadata": {
        "colab": {
          "base_uri": "https://localhost:8080/"
        },
        "id": "SBtwiB3-2giI",
        "outputId": "93521ae7-087b-4943-ea41-5bef69b779b8"
      },
      "outputs": [
        {
          "name": "stdout",
          "output_type": "stream",
          "text": [
            "DecisionTreeRegressor RMSE: 150315.42152839023\n",
            "DecisionTreeRegressor R2 Score: -0.23602215038385688\n"
          ]
        }
      ],
      "source": [
        "dt = DecisionTreeRegressor()\n",
        "dt.fit(X_train, y_train)\n",
        "evaluate_model(dt, X_val, y_val)"
      ]
    },
    {
      "cell_type": "code",
      "execution_count": 14,
      "metadata": {
        "colab": {
          "base_uri": "https://localhost:8080/"
        },
        "id": "-RGvyQuL77d4",
        "outputId": "d966c091-70af-465e-f134-bfdd454a3c2a"
      },
      "outputs": [
        {
          "data": {
            "text/plain": [
              "220"
            ]
          },
          "execution_count": 14,
          "metadata": {},
          "output_type": "execute_result"
        }
      ],
      "source": [
        "dt.tree_.max_depth"
      ]
    },
    {
      "cell_type": "code",
      "execution_count": 15,
      "metadata": {
        "colab": {
          "base_uri": "https://localhost:8080/"
        },
        "id": "QDQ0JWWF7dJt",
        "outputId": "1a5335ec-edcb-4c27-bfff-3a683ae786e1"
      },
      "outputs": [
        {
          "name": "stdout",
          "output_type": "stream",
          "text": [
            "Depth: 7\n",
            "DecisionTreeRegressor RMSE: 107818.2243979501\n",
            "DecisionTreeRegressor R2 Score: 0.364078473772555\n",
            "Depth: 8\n",
            "DecisionTreeRegressor RMSE: 107211.37027049571\n",
            "DecisionTreeRegressor R2 Score: 0.37121688761099814\n",
            "Depth: 9\n",
            "DecisionTreeRegressor RMSE: 107541.73328399127\n",
            "DecisionTreeRegressor R2 Score: 0.367335830412331\n",
            "Depth: 10\n",
            "DecisionTreeRegressor RMSE: 107869.44446258227\n",
            "DecisionTreeRegressor R2 Score: 0.36347412921651445\n"
          ]
        }
      ],
      "source": [
        "depth = [7,8,9,10]\n",
        "for d in depth:\n",
        "  print(f\"Depth: {d}\")\n",
        "  dt = DecisionTreeRegressor(max_depth = d)\n",
        "  dt.fit(X_train, y_train)\n",
        "  evaluate_model(dt, X_val, y_val)"
      ]
    },
    {
      "cell_type": "code",
      "execution_count": 16,
      "metadata": {
        "colab": {
          "base_uri": "https://localhost:8080/",
          "height": 483
        },
        "id": "tcFDef5L4Tm1",
        "outputId": "87c160fb-bb7c-4f0a-dc1b-3deb563ce7b0"
      },
      "outputs": [
        {
          "data": {
            "text/plain": [
              "Text(0, 0.5, 'total impurity of leaves')"
            ]
          },
          "execution_count": 16,
          "metadata": {},
          "output_type": "execute_result"
        },
        {
          "data": {
            "image/png": "[encoded data removed]",
            "text/plain": [
              "<Figure size 640x480 with 1 Axes>"
            ]
          },
          "metadata": {},
          "output_type": "display_data"
        }
      ],
      "source": [
        "import matplotlib.pyplot as plt\n",
        "\n",
        "path = dt.cost_complexity_pruning_path(X_train, y_train)\n",
        "ccp_alphas, impurities = path.ccp_alphas, path.impurities\n",
        "\n",
        "plt.plot(ccp_alphas[:-1], impurities[:-1], marker='o', drawstyle=\"steps-post\")\n",
        "plt.xlabel(\"effective alpha\")\n",
        "plt.ylabel(\"total impurity of leaves\")"
      ]
    },
    {
      "cell_type": "code",
      "execution_count": 17,
      "metadata": {
        "colab": {
          "base_uri": "https://localhost:8080/",
          "height": 385
        },
        "id": "-_00RSv05iOa",
        "outputId": "7f41d51e-1222-4e1e-b012-19e038cc4a2f"
      },
      "outputs": [
        {
          "ename": "KeyboardInterrupt",
          "evalue": "",
          "output_type": "error",
          "traceback": [
            "\u001b[1;31m---------------------------------------------------------------------------\u001b[0m",
            "\u001b[1;31mKeyboardInterrupt\u001b[0m                         Traceback (most recent call last)",
            "Cell \u001b[1;32mIn[17], line 5\u001b[0m\n\u001b[0;32m      3\u001b[0m \u001b[38;5;28;01mfor\u001b[39;00m ccp_alpha \u001b[38;5;129;01min\u001b[39;00m ccp_alphas:\n\u001b[0;32m      4\u001b[0m   dt \u001b[38;5;241m=\u001b[39m DecisionTreeRegressor(ccp_alpha\u001b[38;5;241m=\u001b[39mccp_alpha)\n\u001b[1;32m----> 5\u001b[0m   \u001b[43mdt\u001b[49m\u001b[38;5;241;43m.\u001b[39;49m\u001b[43mfit\u001b[49m\u001b[43m(\u001b[49m\u001b[43mX_train\u001b[49m\u001b[43m,\u001b[49m\u001b[43m \u001b[49m\u001b[43my_train\u001b[49m\u001b[43m)\u001b[49m\n\u001b[0;32m      6\u001b[0m   dts\u001b[38;5;241m.\u001b[39mappend(dt)\n\u001b[0;32m      8\u001b[0m tree_depths \u001b[38;5;241m=\u001b[39m [dts\u001b[38;5;241m.\u001b[39mtree_\u001b[38;5;241m.\u001b[39mmax_depth \u001b[38;5;28;01mfor\u001b[39;00m dts \u001b[38;5;129;01min\u001b[39;00m dts]\n",
            "File \u001b[1;32mc:\\Users\\04drm\\anaconda3\\envs\\deep_forecasting\\Lib\\site-packages\\sklearn\\base.py:1474\u001b[0m, in \u001b[0;36m_fit_context.<locals>.decorator.<locals>.wrapper\u001b[1;34m(estimator, *args, **kwargs)\u001b[0m\n\u001b[0;32m   1467\u001b[0m     estimator\u001b[38;5;241m.\u001b[39m_validate_params()\n\u001b[0;32m   1469\u001b[0m \u001b[38;5;28;01mwith\u001b[39;00m config_context(\n\u001b[0;32m   1470\u001b[0m     skip_parameter_validation\u001b[38;5;241m=\u001b[39m(\n\u001b[0;32m   1471\u001b[0m         prefer_skip_nested_validation \u001b[38;5;129;01mor\u001b[39;00m global_skip_validation\n\u001b[0;32m   1472\u001b[0m     )\n\u001b[0;32m   1473\u001b[0m ):\n\u001b[1;32m-> 1474\u001b[0m     \u001b[38;5;28;01mreturn\u001b[39;00m \u001b[43mfit_method\u001b[49m\u001b[43m(\u001b[49m\u001b[43mestimator\u001b[49m\u001b[43m,\u001b[49m\u001b[43m \u001b[49m\u001b[38;5;241;43m*\u001b[39;49m\u001b[43margs\u001b[49m\u001b[43m,\u001b[49m\u001b[43m \u001b[49m\u001b[38;5;241;43m*\u001b[39;49m\u001b[38;5;241;43m*\u001b[39;49m\u001b[43mkwargs\u001b[49m\u001b[43m)\u001b[49m\n",
            "File \u001b[1;32mc:\\Users\\04drm\\anaconda3\\envs\\deep_forecasting\\Lib\\site-packages\\sklearn\\tree\\_classes.py:1377\u001b[0m, in \u001b[0;36mDecisionTreeRegressor.fit\u001b[1;34m(self, X, y, sample_weight, check_input)\u001b[0m\n\u001b[0;32m   1347\u001b[0m \u001b[38;5;129m@_fit_context\u001b[39m(prefer_skip_nested_validation\u001b[38;5;241m=\u001b[39m\u001b[38;5;28;01mTrue\u001b[39;00m)\n\u001b[0;32m   1348\u001b[0m \u001b[38;5;28;01mdef\u001b[39;00m\u001b[38;5;250m \u001b[39m\u001b[38;5;21mfit\u001b[39m(\u001b[38;5;28mself\u001b[39m, X, y, sample_weight\u001b[38;5;241m=\u001b[39m\u001b[38;5;28;01mNone\u001b[39;00m, check_input\u001b[38;5;241m=\u001b[39m\u001b[38;5;28;01mTrue\u001b[39;00m):\n\u001b[0;32m   1349\u001b[0m \u001b[38;5;250m    \u001b[39m\u001b[38;5;124;03m\"\"\"Build a decision tree regressor from the training set (X, y).\u001b[39;00m\n\u001b[0;32m   1350\u001b[0m \n\u001b[0;32m   1351\u001b[0m \u001b[38;5;124;03m    Parameters\u001b[39;00m\n\u001b[1;32m   (...)\u001b[0m\n\u001b[0;32m   1374\u001b[0m \u001b[38;5;124;03m        Fitted estimator.\u001b[39;00m\n\u001b[0;32m   1375\u001b[0m \u001b[38;5;124;03m    \"\"\"\u001b[39;00m\n\u001b[1;32m-> 1377\u001b[0m     \u001b[38;5;28;43msuper\u001b[39;49m\u001b[43m(\u001b[49m\u001b[43m)\u001b[49m\u001b[38;5;241;43m.\u001b[39;49m\u001b[43m_fit\u001b[49m\u001b[43m(\u001b[49m\n\u001b[0;32m   1378\u001b[0m \u001b[43m        \u001b[49m\u001b[43mX\u001b[49m\u001b[43m,\u001b[49m\n\u001b[0;32m   1379\u001b[0m \u001b[43m        \u001b[49m\u001b[43my\u001b[49m\u001b[43m,\u001b[49m\n\u001b[0;32m   1380\u001b[0m \u001b[43m        \u001b[49m\u001b[43msample_weight\u001b[49m\u001b[38;5;241;43m=\u001b[39;49m\u001b[43msample_weight\u001b[49m\u001b[43m,\u001b[49m\n\u001b[0;32m   1381\u001b[0m \u001b[43m        \u001b[49m\u001b[43mcheck_input\u001b[49m\u001b[38;5;241;43m=\u001b[39;49m\u001b[43mcheck_input\u001b[49m\u001b[43m,\u001b[49m\n\u001b[0;32m   1382\u001b[0m \u001b[43m    \u001b[49m\u001b[43m)\u001b[49m\n\u001b[0;32m   1383\u001b[0m     \u001b[38;5;28;01mreturn\u001b[39;00m \u001b[38;5;28mself\u001b[39m\n",
            "File \u001b[1;32mc:\\Users\\04drm\\anaconda3\\envs\\deep_forecasting\\Lib\\site-packages\\sklearn\\tree\\_classes.py:472\u001b[0m, in \u001b[0;36mBaseDecisionTree._fit\u001b[1;34m(self, X, y, sample_weight, check_input, missing_values_in_feature_mask)\u001b[0m\n\u001b[0;32m    461\u001b[0m \u001b[38;5;28;01melse\u001b[39;00m:\n\u001b[0;32m    462\u001b[0m     builder \u001b[38;5;241m=\u001b[39m BestFirstTreeBuilder(\n\u001b[0;32m    463\u001b[0m         splitter,\n\u001b[0;32m    464\u001b[0m         min_samples_split,\n\u001b[1;32m   (...)\u001b[0m\n\u001b[0;32m    469\u001b[0m         \u001b[38;5;28mself\u001b[39m\u001b[38;5;241m.\u001b[39mmin_impurity_decrease,\n\u001b[0;32m    470\u001b[0m     )\n\u001b[1;32m--> 472\u001b[0m \u001b[43mbuilder\u001b[49m\u001b[38;5;241;43m.\u001b[39;49m\u001b[43mbuild\u001b[49m\u001b[43m(\u001b[49m\u001b[38;5;28;43mself\u001b[39;49m\u001b[38;5;241;43m.\u001b[39;49m\u001b[43mtree_\u001b[49m\u001b[43m,\u001b[49m\u001b[43m \u001b[49m\u001b[43mX\u001b[49m\u001b[43m,\u001b[49m\u001b[43m \u001b[49m\u001b[43my\u001b[49m\u001b[43m,\u001b[49m\u001b[43m \u001b[49m\u001b[43msample_weight\u001b[49m\u001b[43m,\u001b[49m\u001b[43m \u001b[49m\u001b[43mmissing_values_in_feature_mask\u001b[49m\u001b[43m)\u001b[49m\n\u001b[0;32m    474\u001b[0m \u001b[38;5;28;01mif\u001b[39;00m \u001b[38;5;28mself\u001b[39m\u001b[38;5;241m.\u001b[39mn_outputs_ \u001b[38;5;241m==\u001b[39m \u001b[38;5;241m1\u001b[39m \u001b[38;5;129;01mand\u001b[39;00m is_classifier(\u001b[38;5;28mself\u001b[39m):\n\u001b[0;32m    475\u001b[0m     \u001b[38;5;28mself\u001b[39m\u001b[38;5;241m.\u001b[39mn_classes_ \u001b[38;5;241m=\u001b[39m \u001b[38;5;28mself\u001b[39m\u001b[38;5;241m.\u001b[39mn_classes_[\u001b[38;5;241m0\u001b[39m]\n",
            "\u001b[1;31mKeyboardInterrupt\u001b[0m: "
          ]
        }
      ],
      "source": [
        "dts = []\n",
        "\n",
        "for ccp_alpha in ccp_alphas:\n",
        "  dt = DecisionTreeRegressor(ccp_alpha=ccp_alpha)\n",
        "  dt.fit(X_train, y_train)\n",
        "  dts.append(dt)\n",
        "\n",
        "tree_depths = [dts.tree_.max_depth for dts in dts]\n",
        "plt.plot(ccp_alphas[:-1], tree_depths)\n",
        "plt.xlabel(\"effective alpha\")\n",
        "plt.ylabel(\"depth of tree\")\n",
        "#"
      ]
    },
    {
      "cell_type": "code",
      "execution_count": null,
      "metadata": {
        "id": "gkoyAYRe6aio"
      },
      "outputs": [],
      "source": [
        "r2_score = [dt.score(X_val, y_val) for dt in dts]\n",
        "\n",
        "tree_depths = [dt.tree_.max_depth for dt in dts]\n",
        "plt.plot(ccp_alphas[:-1], r2_score)\n",
        "plt.xlabel(\"effective alpha\")\n",
        "plt.ylabel(\"R2 score\")\n",
        "#"
      ]
    },
    {
      "cell_type": "code",
      "execution_count": 9,
      "metadata": {
        "colab": {
          "base_uri": "https://localhost:8080/"
        },
        "id": "8rFiMaCS8feO",
        "outputId": "aa6c4fec-92a1-480f-8af6-67df0eb6aa9f"
      },
      "outputs": [
        {
          "name": "stdout",
          "output_type": "stream",
          "text": [
            "RandomForestRegressor RMSE: 111425.41267332294\n",
            "RandomForestRegressor R2 Score: 0.3208156378708418\n"
          ]
        }
      ],
      "source": [
        "rf = RandomForestRegressor(n_estimators=100, max_features=25, max_depth=None, random_state=42)\n",
        "rf.fit(X_train, y_train)\n",
        "evaluate_model(rf, X_val, y_val)"
      ]
    },
    {
      "cell_type": "code",
      "execution_count": null,
      "metadata": {
        "colab": {
          "base_uri": "https://localhost:8080/"
        },
        "id": "-h4C26Gh8uYp",
        "outputId": "e0b20659-03dc-41d8-9eed-1fbcc0cab7e7"
      },
      "outputs": [
        {
          "data": {
            "text/plain": [
              "0.300113329725469"
            ]
          },
          "execution_count": 20,
          "metadata": {},
          "output_type": "execute_result"
        }
      ],
      "source": [
        "rf.oob_score_"
      ]
    },
    {
      "cell_type": "code",
      "execution_count": null,
      "metadata": {
        "id": "YGYrVkTe88N2"
      },
      "outputs": [],
      "source": [
        "ada = AdaBoostRegressor(n_estimators=100, learning_rate=1.0, random_state=42)\n",
        "ada.fit(X_train, y_train)\n",
        "evaluate_model(ada, X_val, y_val)"
      ]
    },
    {
      "cell_type": "code",
      "execution_count": null,
      "metadata": {
        "id": "nZ78B2wt9jVA"
      },
      "outputs": [],
      "source": [
        "svm = SVR(C=1.0)\n",
        "svm.fit(X_train, y_train)\n",
        "evaluate_model(svm, X_val, y_val)"
      ]
    },
    {
      "cell_type": "code",
      "execution_count": null,
      "metadata": {
        "colab": {
          "base_uri": "https://localhost:8080/"
        },
        "id": "HklT_HLs92Xv",
        "outputId": "006dd635-bace-416d-e5cc-f2066577ae48"
      },
      "outputs": [
        {
          "name": "stdout",
          "output_type": "stream",
          "text": [
            "DecisionTreeRegressor RMSE: 105956.38108623645\n",
            "DecisionTreeRegressor R2 Score: 0.36091674533892026\n"
          ]
        }
      ],
      "source": [
        "\n",
        "evaluate_model(dt, X_test, y_test)"
      ]
    },
    {
      "cell_type": "code",
      "execution_count": null,
      "metadata": {
        "id": "YAxeG-y-944E"
      },
      "outputs": [],
      "source": [
        "SVR, AdaBoostRegressor, RandomForestRegressor, DecisionTreeRegressor, KNeighborsRegressor"
      ]
    }
  ],
  "metadata": {
    "colab": {
      "provenance": []
    },
    "kernelspec": {
      "display_name": "deep_forecasting",
      "language": "python",
      "name": "python3"
    },
    "language_info": {
      "codemirror_mode": {
        "name": "ipython",
        "version": 3
      },
      "file_extension": ".py",
      "mimetype": "text/x-python",
      "name": "python",
      "nbconvert_exporter": "python",
      "pygments_lexer": "ipython3",
      "version": "3.11.11"
    }
  },
  "nbformat": 4,
  "nbformat_minor": 0
}
